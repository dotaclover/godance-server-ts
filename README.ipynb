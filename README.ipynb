{
 "cells": [
  {
   "cell_type": "markdown",
   "metadata": {},
   "source": [
    "# 1.第一个express程序\n",
    "\n",
    "## 1.1环境要求\n",
    "+ nodejs16以上版本\n",
    "+ 安装了npm和typescript"
   ]
  },
  {
   "cell_type": "markdown",
   "metadata": {},
   "source": [
    "## 1.2安装类库\n",
    "```bash\n",
    "# 初始化package.json\n",
    "npm init --yes\n",
    "\n",
    "# 安装express框架.\n",
    "npm i express\n",
    "\n",
    "# 安装express的type说明文件,方便ide提示.\n",
    "npm i @types/express -save-dev\n",
    "\n",
    "# 安装生成ts-config,配置编译参数.\n",
    "tsc --init\n",
    "\n",
    "# 安装ts-node,用于直接运行typescript\n",
    "npm i ts-node\n",
    "```\n"
   ]
  },
  {
   "cell_type": "markdown",
   "metadata": {},
   "source": [
    "## 1.3添加代码\n",
    "```typescript\n",
    "//在根目录添加index.ts\n",
    "import { Request, Response } from 'express';\n",
    "const express = require('express');\n",
    "const app = express();\n",
    "\n",
    "app.get('/', (req: Request, res: Response) => {\n",
    "    res.send(\"Hello, Godance!\");\n",
    "});\n",
    "\n",
    "const port = process.env.PORT ?? 3000;\n",
    "app.listen(port, () => console.log(`Server listen on port:${port}`));\n",
    "```\n",
    "\n",
    "**修改package.json,添加start命令**\n",
    "```json\n",
    "\"scripts\": {\n",
    "    \"start\":\"ts-node index.ts\",\n",
    "    \"test\": \"echo \\\"Error: no test specified\\\" && exit 1\"\n",
    "}\n",
    "```\n",
    "\n",
    "## 1.4运行程序\n",
    "```bash\n",
    "npm start\n",
    "```\n",
    "\n",
    "访问浏览器`http://localhost:3000`\n",
    "\n",
    "此时在浏览器可以看到输出结果\n",
    "```text\n",
    "Hello, Godance!\n",
    "```"
   ]
  },
  {
   "cell_type": "markdown",
   "metadata": {},
   "source": [
    "# 2.添加一些功能类库\n",
    "\n",
    "## 2.1添加config组件\n",
    "```bash\n",
    "npm i config\n",
    "```\n",
    "在根目录中添加`config`目录,然后在`config`目录中添加`default.json`、`development.json`、`test.json`和`production.json`,每个文件内容都设置为`{}`。程序启动后会先读取`default.json`,然后根据环境变量读取`development.json`、`test.json`或`production.json`。如果不想把配置直接写在json文件中,则需要先添加`custom-environment-variables.json`,然后在对应的变量中写上环境变量名称,程序会读取环境变量中的值覆盖掉json文件中的值。\n",
    "\n"
   ]
  },
  {
   "cell_type": "markdown",
   "metadata": {},
   "source": [
    "## 2.2安装`lodash`和`moment`\n",
    "\n",
    "```bash\n",
    "# 基础工具库\n",
    "npm i lodash\n",
    "\n",
    "# 处理日期的库\n",
    "npm i moment\n",
    "```"
   ]
  },
  {
   "cell_type": "markdown",
   "metadata": {},
   "source": [
    "## 2.3安装日志组件`winston`和`morgan`\n",
    "```bash\n",
    "# winston可以设置多种日志保存方式\n",
    "npm i winston\n",
    "\n",
    "# morgan可以在开发中显示http请求日志\n",
    "npm i morgan\n",
    "```\n",
    "\n"
   ]
  },
  {
   "cell_type": "markdown",
   "metadata": {},
   "source": [
    "## 2.4添加日志处理\n",
    "\n",
    "添加`server/logging.ts`:\n",
    "```typescript\n",
    "const winston = require('winston');\n",
    "\n",
    "export default function () {\n",
    "    winston.add(new winston.transports.Console());\n",
    "    winston.add(new winston.transports.File({ filename: 'server_log.log' }));\n",
    "    winston.exceptions.handle(new winston.transports.File({ filename: 'unhandledException.log' }));\n",
    "    winston.rejections.handle(new winston.transports.File({ filename: 'unhandledRejection.log' }));\n",
    "}\n",
    "```\n",
    "\n",
    "然后修改`index.ts`,添加以下代码，增加日志处理\n",
    "```typescript\n",
    "import logging from './server/logging';\n",
    "logging();\n",
    "\n",
    "const morgan = require('morgan');\n",
    "\n",
    "app.use(morgan(':method :url :status :res[content-length] - :response-time ms'));\n",
    "```\n"
   ]
  },
  {
   "cell_type": "markdown",
   "metadata": {},
   "source": [
    "## 2.5重构项目结构\n",
    "+ 添加`controllers/index.ts`\n",
    "```typescript\n",
    "import { Request, Response } from \"express\";\n",
    "const config = require('config');\n",
    "\n",
    "export default {\n",
    "    async index(req: Request, res: Response) {\n",
    "    res.send(`app_name=${config.get('app_name',)}`);\n",
    "        \n",
    "    }\n",
    "}\n",
    "```\n",
    "\n",
    "+ 添加`router/index.ts`\n",
    "```typescript\n",
    "import { Application } from \"express\";\n",
    "import index from '../controllers/index';\n",
    "export default function (app: Application) {\n",
    "    app.use('/', index.index);\n",
    "}\n",
    "```\n",
    "\n",
    "+ 添加`server/router.ts`\n",
    "```typescript\n",
    "import router from \"../router\";\n",
    "import { Application } from \"express\";\n",
    "\n",
    "export default function (app: Application) {\n",
    "    router(app);\n",
    "}\n",
    "```\n",
    "\n",
    "+ 最后修改`index.ts`文件如下:\n",
    "```typescript\n",
    "import logging from './server/logging';\n",
    "import router from './server/router';\n",
    "const morgan = require('morgan');\n",
    "const express = require('express');\n",
    "const app = express();\n",
    "\n",
    "//startup\n",
    "logging();\n",
    "router(app);\n",
    "\n",
    "//middlewares\n",
    "app.use(morgan('tiny'));\n",
    "\n",
    "const port = process.env.PORT ?? 3000;\n",
    "app.listen(port, () => console.log(`Server listen on port:${port}`));\n",
    "```\n"
   ]
  },
  {
   "cell_type": "markdown",
   "metadata": {},
   "source": [
    "## 2.6添加`nodemon`\n",
    "```bash\n",
    "npm i nodemon -D\n",
    "```\n",
    "\n",
    "修改`package.json`的dev命令:`nodemon index.ts`, 这样在开发过程中"
   ]
  },
  {
   "cell_type": "markdown",
   "metadata": {},
   "source": []
  }
 ],
 "metadata": {
  "kernelspec": {
   "display_name": "Python 3",
   "language": "python",
   "name": "python3"
  },
  "language_info": {
   "name": "python",
   "version": "3.9.17"
  }
 },
 "nbformat": 4,
 "nbformat_minor": 2
}
