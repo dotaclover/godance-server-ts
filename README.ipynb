{
 "cells": [
  {
   "cell_type": "markdown",
   "metadata": {},
   "source": [
    "# 1.第一个express程序\n",
    "\n",
    "## 1.1环境要求\n",
    "+ nodejs16以上版本\n",
    "+ 安装了npm和typescript"
   ]
  },
  {
   "cell_type": "markdown",
   "metadata": {},
   "source": [
    "## 1.2安装类库\n",
    "```bash\n",
    "# 初始化package.json\n",
    "npm init --yes\n",
    "\n",
    "# 安装express框架.\n",
    "npm i express\n",
    "\n",
    "# 安装express的type说明文件,方便ide提示.\n",
    "npm i @types/express -save-dev\n",
    "\n",
    "# 安装生成ts-config,配置编译参数.\n",
    "tsc --init\n",
    "\n",
    "# 安装ts-node,用于直接运行typescript\n",
    "npm i ts-node\n",
    "```\n"
   ]
  },
  {
   "cell_type": "markdown",
   "metadata": {},
   "source": [
    "## 1.3添加代码\n",
    "```typescript\n",
    "//在根目录添加index.ts\n",
    "import { Request, Response } from 'express';\n",
    "const express = require('express');\n",
    "const app = express();\n",
    "\n",
    "app.get('/', (req: Request, res: Response) => {\n",
    "    res.send(\"Hello, Godance!\");\n",
    "});\n",
    "\n",
    "const port = process.env.NODE_ENV ?? 3000;\n",
    "app.listen(port, () => console.log(`Server listen on port:${port}`));\n",
    "```\n",
    "\n",
    "**修改package.json,添加start命令**\n",
    "```json\n",
    "\"scripts\": {\n",
    "    \"start\":\"ts-node index.ts\",\n",
    "    \"test\": \"echo \\\"Error: no test specified\\\" && exit 1\"\n",
    "}\n",
    "```\n",
    "\n",
    "## 1.4运行程序\n",
    "```bash\n",
    "npm start\n",
    "```\n",
    "\n",
    "访问浏览器`http://localhost:3000`\n",
    "\n",
    "此时在浏览器可以看到输出结果\n",
    "```text\n",
    "Hello, Godance!\n",
    "```"
   ]
  },
  {
   "cell_type": "markdown",
   "metadata": {},
   "source": []
  }
 ],
 "metadata": {
  "language_info": {
   "name": "python"
  }
 },
 "nbformat": 4,
 "nbformat_minor": 2
}
